{
 "cells": [
  {
   "cell_type": "markdown",
   "id": "382b67c4",
   "metadata": {},
   "source": [
    "seperate the data to specific years"
   ]
  },
  {
   "cell_type": "code",
   "execution_count": 2,
   "id": "ee7002c9",
   "metadata": {},
   "outputs": [],
   "source": [
    "import pandas as pd"
   ]
  },
  {
   "cell_type": "code",
   "execution_count": 13,
   "id": "6a23c6b6",
   "metadata": {},
   "outputs": [
    {
     "name": "stderr",
     "output_type": "stream",
     "text": [
      "C:\\Users\\Ivor Kuan\\AppData\\Local\\Temp\\ipykernel_9600\\3044571460.py:2: DtypeWarning: Columns (0,2,15,16,35) have mixed types. Specify dtype option on import or set low_memory=False.\n",
      "  df = pd.read_csv(\"C:\\\\Users\\\\Ivor Kuan\\\\Desktop\\\\thesis_2\\\\data\\\\UK_Accident_all\\\\79_21.csv\")\n"
     ]
    }
   ],
   "source": [
    "# Read in the large CSV file\n",
    "df = pd.read_csv(\"C:\\\\Users\\\\Ivor Kuan\\\\Desktop\\\\thesis_2\\\\data\\\\UK_Accident_all\\\\79_21.csv\")\n"
   ]
  },
  {
   "cell_type": "code",
   "execution_count": 18,
   "id": "3ab066f0",
   "metadata": {},
   "outputs": [],
   "source": [
    "# Group the DataFrame by the column you want to split by\n",
    "grouped = df.groupby('accident_year')"
   ]
  },
  {
   "cell_type": "code",
   "execution_count": 19,
   "id": "1651262e",
   "metadata": {},
   "outputs": [],
   "source": [
    "# Loop through each group and write the group to a new CSV file\n",
    "for group_name, group_df in grouped:\n",
    "    group_df.to_csv(f'C:\\\\Users\\\\Ivor Kuan\\\\Desktop\\\\thesis_2\\\\data\\\\UK_Accident_all\\\\{group_name}.csv', index=False)"
   ]
  },
  {
   "cell_type": "code",
   "execution_count": null,
   "id": "c8f70308",
   "metadata": {},
   "outputs": [],
   "source": [
    "counts = df['accident_year'].value_counts()\n",
    "print(counts)"
   ]
  },
  {
   "cell_type": "markdown",
   "id": "4d0c2a0a",
   "metadata": {},
   "source": [
    "reconstruct the data"
   ]
  },
  {
   "cell_type": "code",
   "execution_count": 9,
   "id": "7c0785b7",
   "metadata": {},
   "outputs": [
    {
     "name": "stderr",
     "output_type": "stream",
     "text": [
      "C:\\Users\\Ivor Kuan\\AppData\\Local\\Temp\\ipykernel_27844\\4033621734.py:1: DtypeWarning: Columns (0,2,35) have mixed types. Specify dtype option on import or set low_memory=False.\n",
      "  d21 = pd.read_csv(\"C:\\\\Users\\\\Ivor Kuan\\\\Desktop\\\\thesis_2\\\\data\\\\UK_Accident_all\\\\2021.csv\")\n"
     ]
    }
   ],
   "source": [
    "d21 = pd.read_csv(\"C:\\\\Users\\\\Ivor Kuan\\\\Desktop\\\\thesis_2\\\\data\\\\UK_Accident_all\\\\2021.csv\")"
   ]
  },
  {
   "cell_type": "code",
   "execution_count": 10,
   "id": "779b9f4a",
   "metadata": {
    "scrolled": true
   },
   "outputs": [
    {
     "name": "stdout",
     "output_type": "stream",
     "text": [
      "Index(['accident_index', 'accident_year', 'accident_reference',\n",
      "       'location_easting_osgr', 'location_northing_osgr', 'longitude',\n",
      "       'latitude', 'police_force', 'accident_severity', 'number_of_vehicles',\n",
      "       'number_of_casualties', 'date', 'day_of_week', 'time',\n",
      "       'local_authority_district', 'local_authority_ons_district',\n",
      "       'local_authority_highway', 'first_road_class', 'first_road_number',\n",
      "       'road_type', 'speed_limit', 'junction_detail', 'junction_control',\n",
      "       'second_road_class', 'second_road_number',\n",
      "       'pedestrian_crossing_human_control',\n",
      "       'pedestrian_crossing_physical_facilities', 'light_conditions',\n",
      "       'weather_conditions', 'road_surface_conditions',\n",
      "       'special_conditions_at_site', 'carriageway_hazards',\n",
      "       'urban_or_rural_area', 'did_police_officer_attend_scene_of_accident',\n",
      "       'trunk_road_flag', 'lsoa_of_accident_location'],\n",
      "      dtype='object')\n"
     ]
    }
   ],
   "source": [
    "column_names = d21.columns\n",
    "\n",
    "# Print the column names\n",
    "print(column_names)"
   ]
  },
  {
   "cell_type": "code",
   "execution_count": 11,
   "id": "3b1bb433",
   "metadata": {},
   "outputs": [],
   "source": [
    "d21 = d21.drop(['accident_index', 'accident_year', 'accident_reference',\n",
    "       'location_easting_osgr', 'location_northing_osgr', 'longitude',\n",
    "       'latitude', 'police_force', 'date', 'day_of_week', 'time', \n",
    "        'local_authority_district', 'local_authority_highway', 'first_road_number', \n",
    "        'second_road_number', 'did_police_officer_attend_scene_of_accident',\n",
    "       'trunk_road_flag', 'lsoa_of_accident_location'], axis=1)"
   ]
  },
  {
   "cell_type": "code",
   "execution_count": 12,
   "id": "2f31edbc",
   "metadata": {},
   "outputs": [
    {
     "name": "stdout",
     "output_type": "stream",
     "text": [
      "Index(['accident_severity', 'number_of_vehicles', 'number_of_casualties',\n",
      "       'local_authority_ons_district', 'first_road_class', 'road_type',\n",
      "       'speed_limit', 'junction_detail', 'junction_control',\n",
      "       'second_road_class', 'pedestrian_crossing_human_control',\n",
      "       'pedestrian_crossing_physical_facilities', 'light_conditions',\n",
      "       'weather_conditions', 'road_surface_conditions',\n",
      "       'special_conditions_at_site', 'carriageway_hazards',\n",
      "       'urban_or_rural_area'],\n",
      "      dtype='object')\n"
     ]
    }
   ],
   "source": [
    "print(d21.columns)"
   ]
  },
  {
   "cell_type": "code",
   "execution_count": 21,
   "id": "531ab6ce",
   "metadata": {},
   "outputs": [
    {
     "name": "stdout",
     "output_type": "stream",
     "text": [
      "count    101087.000000\n",
      "mean          5.256769\n",
      "std           1.701544\n",
      "min           1.000000\n",
      "25%           6.000000\n",
      "50%           6.000000\n",
      "75%           6.000000\n",
      "max           9.000000\n",
      "Name: road_type, dtype: float64\n",
      "6    73054\n",
      "3    15299\n",
      "1     5947\n",
      "9     2607\n",
      "2     2300\n",
      "7     1880\n",
      "Name: road_type, dtype: int64\n"
     ]
    }
   ],
   "source": [
    "print(d21['road_type'].describe())\n",
    "print(d21['road_type'].value_counts())"
   ]
  },
  {
   "cell_type": "code",
   "execution_count": 22,
   "id": "e59eb794",
   "metadata": {},
   "outputs": [],
   "source": [
    "d21.to_csv(f'C:\\\\Users\\\\Ivor Kuan\\\\Desktop\\\\thesis_2\\\\data\\\\UK_Accident_all\\\\d21.csv', index=False)"
   ]
  },
  {
   "cell_type": "code",
   "execution_count": null,
   "id": "6ac8c231",
   "metadata": {},
   "outputs": [],
   "source": []
  }
 ],
 "metadata": {
  "kernelspec": {
   "display_name": "Python 3 (ipykernel)",
   "language": "python",
   "name": "python3"
  },
  "language_info": {
   "codemirror_mode": {
    "name": "ipython",
    "version": 3
   },
   "file_extension": ".py",
   "mimetype": "text/x-python",
   "name": "python",
   "nbconvert_exporter": "python",
   "pygments_lexer": "ipython3",
   "version": "3.9.12"
  }
 },
 "nbformat": 4,
 "nbformat_minor": 5
}
